{
 "cells": [
  {
   "cell_type": "markdown",
   "metadata": {},
   "source": [
    "# Simple Moving Average Trading Stragetgy"
   ]
  },
  {
   "cell_type": "markdown",
   "metadata": {},
   "source": [
    "This notebook aims to give an introduction into writing an automated trading algorithm. This notebook uses Alpaca Markets and it's api to receive market data and execute trades. I also make a few assumptions, my first assumption is that there already positions in the portfolio. My second assumption is that this strategy is run once a week, this could be done using cron tab."
   ]
  },
  {
   "cell_type": "code",
   "execution_count": 2,
   "metadata": {},
   "outputs": [],
   "source": [
    "# see the trading_functions.py file located in Git Hub\n",
    "from trading_functions import trading_functions \n",
    "import math\n",
    "api = trading_functions()"
   ]
  },
  {
   "cell_type": "code",
   "execution_count": null,
   "metadata": {},
   "outputs": [],
   "source": [
    "# defind the period for our moving average\n",
    "time_frame = 10"
   ]
  },
  {
   "cell_type": "code",
   "execution_count": 60,
   "metadata": {},
   "outputs": [
    {
     "name": "stdout",
     "output_type": "stream",
     "text": [
      "['ZG', 'TTD', 'TSLA', 'PYPL', 'NVDA', 'MTCH', 'EA', 'ATVI', 'AMZN', 'AAPL']\n"
     ]
    }
   ],
   "source": [
    "#get stock symbols in our current portolio\n",
    "n=len(api.api.list_positions())\n",
    "stocks = []\n",
    "for i in range(0,n):\n",
    "    stocks.append(api.api.list_positions()[i].symbol)\n",
    "print(stocks)"
   ]
  },
  {
   "cell_type": "code",
   "execution_count": 40,
   "metadata": {},
   "outputs": [],
   "source": [
    "# let's calculate the position of each stock based on our moving average model\n",
    "positions = []\n",
    "for i in stocks:\n",
    "    pos = api.ma_position(time_frame,i)\n",
    "    positions.append(pos)\n",
    "    \n",
    "# for now we'll keep it simple by allocating an equal amont to each asset\n",
    "\n",
    "#first we'll get the current closing price\n",
    "stock_data = api.get_pandas_barset(stocks,'day',time_frame)\n",
    "closing_prices = []\n",
    "for symbol in stocks:\n",
    "    x = stock_data[symbol].iloc[-1].close\n",
    "    closing_prices.append(x)\n",
    "    \n",
    "quantity = []\n",
    "buying_power = float(api.api.get_account().buying_power)\n",
    "stock_cap = buying_power / n\n",
    "for i in range(0,n):\n",
    "    x = math.floor(stock_cap/closing_prices[i])\n",
    "    quantity.append(x)\n",
    "    \n",
    "#close all positions\n",
    "api.close_all_positions()\n",
    "\n",
    "# purchase stocks\n",
    "for i in range(0,n):\n",
    "        api.api.submit_order(\n",
    "            symbol = stocks[i],\n",
    "            qty = quantity[i],\n",
    "            side = positions[i],\n",
    "            type = 'market',\n",
    "            time_in_force = 'gtc'\n",
    "        )"
   ]
  }
 ],
 "metadata": {
  "kernelspec": {
   "display_name": "Python 3",
   "language": "python",
   "name": "python3"
  },
  "language_info": {
   "codemirror_mode": {
    "name": "ipython",
    "version": 3
   },
   "file_extension": ".py",
   "mimetype": "text/x-python",
   "name": "python",
   "nbconvert_exporter": "python",
   "pygments_lexer": "ipython3",
   "version": "3.6.1"
  }
 },
 "nbformat": 4,
 "nbformat_minor": 4
}
